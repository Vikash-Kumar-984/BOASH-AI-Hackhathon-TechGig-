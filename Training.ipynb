# Training the model with Google COLAB

#Step 1

from google.colab import drive
drive.mount('/content/drive')

#Step 2

!ls

#Step 3
#Select Hardware settings -> Hardware accelerator -> GPU

!unzip '/content/drive/My Drive/tf2/object_detection.zip' -d '/content/drive/My Drive/tf2'

#Step 4

/content/drive/My Drive/tf2/object_detection

#Step 5
# Compiled Darknet using Nvidia GPU

python model_main_tf2.py --pipeline_config_path=training/ssd_efficientdet_d0_512x512_coco17_tpu-8.config --model_dir=training --alsologtostderr

# Wait as much as can wait for more number of steps of training the model
# I have waited upto Step 37500 per-step time 0.132 loss=0.214

#Step 6

!python exporter_main_v2.py --trained_checkpoint_dir=training --pipelin_config_path=training/ssd_efficient_d0_512x512_coco17_tpu-8.config --output_directory inference_graph
